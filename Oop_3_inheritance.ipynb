{
 "cells": [
  {
   "cell_type": "markdown",
   "metadata": {},
   "source": [
    "# Inheritance"
   ]
  },
  {
   "cell_type": "code",
   "execution_count": 1,
   "metadata": {},
   "outputs": [],
   "source": [
    " #class \n",
    "class Product:\n",
    "    \"\"\"\n",
    "    This is product class.\n",
    "    \"\"\"\n",
    "\n",
    "    # class attributes\n",
    "    platform = \"amazon\"\n",
    "\n",
    "    # constructor \n",
    "    def __init__(self, pid: int, title: str, price: float) -> None:\n",
    "        self.pid = pid\n",
    "        self.title = title\n",
    "        self.price = price\n",
    "\n",
    "    #  methods \n",
    "    def getDiscount(self) -> float:\n",
    "        return self.price - (self.price*(5/100))\n",
    "    \n",
    "    #special  or magic methos\n",
    "    def __repr__(self) -> str:\n",
    "        return f'Product(pid={self.pid}, title={self.title}, price={self.price})'"
   ]
  },
  {
   "cell_type": "code",
   "execution_count": 2,
   "metadata": {},
   "outputs": [
    {
     "data": {
      "text/plain": [
       "(Product(pid=123455, title=iphone, price=80000.0),\n",
       " Product(pid=123456, title=iphone x, price=110000.0))"
      ]
     },
     "execution_count": 2,
     "metadata": {},
     "output_type": "execute_result"
    }
   ],
   "source": [
    "p1 = Product(123455, 'iphone', 80000.00)\n",
    "p2 = Product(123456, 'iphone x', 110000.00)\n",
    "p1 , p2, "
   ]
  },
  {
   "cell_type": "markdown",
   "metadata": {},
   "source": [
    "## Single inheritance"
   ]
  },
  {
   "cell_type": "code",
   "execution_count": 12,
   "metadata": {},
   "outputs": [],
   "source": [
    "class cloth(Product):\n",
    "    def __init__(self, pid: int, title: str, price: float, fabric: str) -> None:\n",
    "        self.fabric = fabric\n",
    "        super().__init__(pid, title, price)\n",
    "    #Polymorphism- runtime polymorphism (Method.Overriding)\n",
    "    def __repr__(self) -> str:\n",
    "        return f'cloth(pid={self.pid}, title={self.title}, price={self.price},fabric={self.fabric})'"
   ]
  },
  {
   "cell_type": "code",
   "execution_count": 13,
   "metadata": {},
   "outputs": [
    {
     "data": {
      "text/plain": [
       "cloth(pid=534543, title=Allen Solly T-Shirt, price=1190.0,fabric=Cotton)"
      ]
     },
     "execution_count": 13,
     "metadata": {},
     "output_type": "execute_result"
    }
   ],
   "source": [
    "c1 = cloth(pid= 534543,title='Allen Solly T-Shirt',price= 1190.0, fabric='Cotton')\n",
    "c1"
   ]
  },
  {
   "cell_type": "code",
   "execution_count": 14,
   "metadata": {},
   "outputs": [
    {
     "data": {
      "text/plain": [
       "(__main__.cloth, __main__.Product, object)"
      ]
     },
     "execution_count": 14,
     "metadata": {},
     "output_type": "execute_result"
    }
   ],
   "source": [
    "cloth.__mro__"
   ]
  },
  {
   "cell_type": "code",
   "execution_count": 15,
   "metadata": {},
   "outputs": [
    {
     "data": {
      "text/plain": [
       "[__main__.cloth, __main__.Product, object]"
      ]
     },
     "execution_count": 15,
     "metadata": {},
     "output_type": "execute_result"
    }
   ],
   "source": [
    "cloth.mro()"
   ]
  },
  {
   "cell_type": "markdown",
   "metadata": {},
   "source": [
    "## Multi-level inheritance"
   ]
  },
  {
   "cell_type": "code",
   "execution_count": 16,
   "metadata": {},
   "outputs": [],
   "source": [
    "class TopWear(cloth):\n",
    "    def __init__(self, pid: int, title: str, price: float, fabric: str,Wear_type: str) -> None:\n",
    "        self.Wear_type = Wear_type\n",
    "        super().__init__(pid, title, price,fabric)\n",
    "    #Polymorphism- runtime polymorphism (Method.Overriding)\n",
    "    def __repr__(self) -> str:\n",
    "        return f'TopWear(pid={self.pid}, title={self.title}, price={self.price},fabric={self.fabric},Wear_type={self.Wear_type})'"
   ]
  },
  {
   "cell_type": "code",
   "execution_count": 18,
   "metadata": {},
   "outputs": [
    {
     "data": {
      "text/plain": [
       "TopWear(pid=534543, title=Allen Solly T-Shirt, price=1190.0,fabric=Cotton,Wear_type=Tops)"
      ]
     },
     "execution_count": 18,
     "metadata": {},
     "output_type": "execute_result"
    }
   ],
   "source": [
    "c1 = TopWear(pid= 534543,title='Allen Solly T-Shirt',price= 1190.0, fabric='Cotton', Wear_type='Tops')\n",
    "c1"
   ]
  },
  {
   "cell_type": "markdown",
   "metadata": {},
   "source": [
    "## Multiple Inheritance"
   ]
  },
  {
   "cell_type": "code",
   "execution_count": 19,
   "metadata": {},
   "outputs": [],
   "source": [
    "class Seller: \n",
    "    def __init__(self,Sid: int, Sname: str) -> None:\n",
    "        self.Sid = Sid\n",
    "        self.Sname = Sname\n",
    "    \n",
    "    def __repr__(self) -> str:\n",
    "        return f'Seller(Sid={self.Sid}, Sname={self.Sname})'"
   ]
  },
  {
   "cell_type": "code",
   "execution_count": 24,
   "metadata": {},
   "outputs": [],
   "source": [
    "class Mobile(Product, Seller):\n",
    "    def __init__(self, pid: int, title: str, price: float,Sid:int, Sname: str) -> None:\n",
    "        Product.__init__(self,pid, title, price)\n",
    "        Seller.__init__(self,Sid,Sname)\n",
    "\n",
    "    def getIds(self):\n",
    "        return {\n",
    "            'platform': Product.platform, 'Seller': self.Sname, 'discount': self.getDiscount\n",
    "        }\n",
    "\n",
    "    def __repr__(self) -> str:\n",
    "        return f'Mobile(pid={self.pid}, title={self.title}, price={self.price}, Sid={self.Sid}, Sname={self.Sname})'"
   ]
  },
  {
   "cell_type": "code",
   "execution_count": 25,
   "metadata": {},
   "outputs": [
    {
     "data": {
      "text/plain": [
       "Mobile(pid=231456, title=IPHONE XX, price=120000.0, Sid=3456, Sname=Allen)"
      ]
     },
     "execution_count": 25,
     "metadata": {},
     "output_type": "execute_result"
    }
   ],
   "source": [
    "m1 = Mobile(pid=231456, title='IPHONE XX', price= 120000.0,Sid=3456,Sname='Allen')\n",
    "m1"
   ]
  },
  {
   "cell_type": "code",
   "execution_count": 26,
   "metadata": {},
   "outputs": [
    {
     "data": {
      "text/plain": [
       "{'platform': 'amazon', 'Seller': 'Allen', 'discount': 114000.0}"
      ]
     },
     "execution_count": 26,
     "metadata": {},
     "output_type": "execute_result"
    }
   ],
   "source": [
    "m1.getIds()"
   ]
  },
  {
   "cell_type": "markdown",
   "metadata": {},
   "source": [
    "## Stopping Inheritance"
   ]
  },
  {
   "cell_type": "code",
   "execution_count": 40,
   "metadata": {},
   "outputs": [],
   "source": [
    "class Meta(type):\n",
    "    def __new__ (cls, name, bases, classdict):\n",
    "        for base in bases:\n",
    "            if isinstance(base, Meta):\n",
    "                raise TypeError(f'cannot inherit class {base.__name__}')\n",
    "        return type.__new__(cls, name, bases, classdict)"
   ]
  },
  {
   "cell_type": "code",
   "execution_count": 45,
   "metadata": {},
   "outputs": [],
   "source": [
    "class Seller(metaclass=Meta): \n",
    "    def __init__(self,Sid: int, Sname: str) -> None:\n",
    "        self.Sid = Sid\n",
    "        self.Sname = Sname\n",
    "\n",
    "    def __repr__(self) -> str:\n",
    "        return f'Seller(Sid={self.Sid}, Sname={self.Sname})'"
   ]
  },
  {
   "cell_type": "code",
   "execution_count": 46,
   "metadata": {},
   "outputs": [
    {
     "ename": "TypeError",
     "evalue": "cannot inherit class Seller",
     "output_type": "error",
     "traceback": [
      "\u001b[1;31m---------------------------------------------------------------------------\u001b[0m",
      "\u001b[1;31mTypeError\u001b[0m                                 Traceback (most recent call last)",
      "Cell \u001b[1;32mIn [46], line 1\u001b[0m\n\u001b[1;32m----> 1\u001b[0m \u001b[39mclass\u001b[39;00m \u001b[39mMobile\u001b[39;00m(Product, Seller):\n\u001b[0;32m      2\u001b[0m     \u001b[39mdef\u001b[39;00m \u001b[39m__init__\u001b[39m(\u001b[39mself\u001b[39m, pid: \u001b[39mint\u001b[39m, title: \u001b[39mstr\u001b[39m, price: \u001b[39mfloat\u001b[39m,Sid:\u001b[39mint\u001b[39m, Sname: \u001b[39mstr\u001b[39m) \u001b[39m-\u001b[39m\u001b[39m>\u001b[39m \u001b[39mNone\u001b[39;00m:\n\u001b[0;32m      3\u001b[0m         Product\u001b[39m.\u001b[39m\u001b[39m__init__\u001b[39m(\u001b[39mself\u001b[39m,pid, title, price)\n",
      "Cell \u001b[1;32mIn [40], line 5\u001b[0m, in \u001b[0;36mMeta.__new__\u001b[1;34m(cls, name, bases, classdict)\u001b[0m\n\u001b[0;32m      3\u001b[0m \u001b[39mfor\u001b[39;00m base \u001b[39min\u001b[39;00m bases:\n\u001b[0;32m      4\u001b[0m     \u001b[39mif\u001b[39;00m \u001b[39misinstance\u001b[39m(base, Meta):\n\u001b[1;32m----> 5\u001b[0m         \u001b[39mraise\u001b[39;00m \u001b[39mTypeError\u001b[39;00m(\u001b[39mf\u001b[39m\u001b[39m'\u001b[39m\u001b[39mcannot inherit class \u001b[39m\u001b[39m{\u001b[39;00mbase\u001b[39m.\u001b[39m\u001b[39m__name__\u001b[39m\u001b[39m}\u001b[39;00m\u001b[39m'\u001b[39m)\n\u001b[0;32m      6\u001b[0m \u001b[39mreturn\u001b[39;00m \u001b[39mtype\u001b[39m\u001b[39m.\u001b[39m\u001b[39m__new__\u001b[39m(\u001b[39mcls\u001b[39m, name, bases, classdict)\n",
      "\u001b[1;31mTypeError\u001b[0m: cannot inherit class Seller"
     ]
    }
   ],
   "source": [
    "class Mobile(Product, Seller):\n",
    "    def __init__(self, pid: int, title: str, price: float,Sid:int, Sname: str) -> None:\n",
    "        Product.__init__(self,pid, title, price)\n",
    "        Seller.__init__(self,Sid,Sname)\n",
    "\n",
    "    def getIds(self):\n",
    "        return {\n",
    "            'platform': Product.platform, 'Seller': self.Sname, 'discount': self.getDiscount()\n",
    "        }\n",
    "\n",
    "    def __repr__(self) -> str:\n",
    "        return f'Mobile(pid={self.pid}, title={self.title}, price={self.price}, Sid={self.Sid}, Sname={self.Sname})'"
   ]
  },
  {
   "cell_type": "code",
   "execution_count": 43,
   "metadata": {},
   "outputs": [
    {
     "data": {
      "text/plain": [
       "Mobile(pid=231456, title=IPHONE XX, price=120000.0, Sid=3456, Sname=Allen)"
      ]
     },
     "execution_count": 43,
     "metadata": {},
     "output_type": "execute_result"
    }
   ],
   "source": [
    "m1"
   ]
  },
  {
   "cell_type": "code",
   "execution_count": 44,
   "metadata": {},
   "outputs": [
    {
     "data": {
      "text/plain": [
       "False"
      ]
     },
     "execution_count": 44,
     "metadata": {},
     "output_type": "execute_result"
    }
   ],
   "source": [
    "isinstance(m1,Mobile)"
   ]
  },
  {
   "cell_type": "code",
   "execution_count": null,
   "metadata": {},
   "outputs": [],
   "source": []
  }
 ],
 "metadata": {
  "kernelspec": {
   "display_name": "Python 3.10.7 64-bit",
   "language": "python",
   "name": "python3"
  },
  "language_info": {
   "codemirror_mode": {
    "name": "ipython",
    "version": 3
   },
   "file_extension": ".py",
   "mimetype": "text/x-python",
   "name": "python",
   "nbconvert_exporter": "python",
   "pygments_lexer": "ipython3",
   "version": "3.10.7"
  },
  "orig_nbformat": 4,
  "vscode": {
   "interpreter": {
    "hash": "c19fa61d258bb2b35aae2ada233c33e2817c1ce895aa48acba720c6bf7cbe3cb"
   }
  }
 },
 "nbformat": 4,
 "nbformat_minor": 2
}
