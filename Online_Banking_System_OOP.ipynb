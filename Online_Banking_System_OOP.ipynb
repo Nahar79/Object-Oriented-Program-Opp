{
 "cells": [
  {
   "cell_type": "markdown",
   "metadata": {},
   "source": [
    "# Assignment on \"**Online Banking System**\" "
   ]
  },
  {
   "cell_type": "code",
   "execution_count": 83,
   "metadata": {},
   "outputs": [],
   "source": [
    "# Parent class \n",
    "class user():\n",
    "    \"\"\"\n",
    "    This is bank account user class.\n",
    "    \"\"\"\n",
    "    # constructor \n",
    "    def __init__(self, name: str, age: int, phone: str, email: str,) -> None:\n",
    "        self.name = name\n",
    "        self.age = age\n",
    "        self.phone = phone\n",
    "        self.email = email \n",
    "\n",
    "    def owner_details(self):\n",
    "        print(\"Owner's Personal Details\")\n",
    "        print(\"\")\n",
    "        print(\"Name \",self.name)\n",
    "        print(\"Age  \",self.age)\n",
    "        print(\"Phone \",self.phone)\n",
    "        print(\"Email \",self.email)\n",
    "# Child Class\n",
    "class Bank(user):\n",
    "    def __init__(self, name: str, age: int, phone: str, email: str) -> None:\n",
    "        super().__init__(name, age, phone, email)\n",
    "        self.balance = 0\n",
    "    \n",
    "    def deposit(self,amount):\n",
    "        self.amount = amount\n",
    "        self.balance = self.balance + self.amount\n",
    "        print(\"Balance has been upated : $\", self.balance)\n",
    "\n",
    "    def withraw(self,amount):\n",
    "        self.amount = amount\n",
    "        if self.amount> self.balance:\n",
    "            print(\"Insufficient Balance | Balance Available: $\", self.balance)\n",
    "        else:\n",
    "            self.balance = self.balance - self.amount\n",
    "            print (\"Withdrawal Successful | Latest Balance: $\", self.balance )\n",
    "\n",
    "    def balance_check(self):\n",
    "        self.owner_details()\n",
    "        print(\"Account Balance: $\", self.balance)\n"
   ]
  },
  {
   "cell_type": "code",
   "execution_count": 84,
   "metadata": {},
   "outputs": [
    {
     "data": {
      "text/plain": [
       "<__main__.user at 0x21742fbaf50>"
      ]
     },
     "execution_count": 84,
     "metadata": {},
     "output_type": "execute_result"
    }
   ],
   "source": [
    "A= user('Allen', 45,'017869543421', 'allen@gmail.com')\n",
    "A"
   ]
  },
  {
   "cell_type": "code",
   "execution_count": 85,
   "metadata": {},
   "outputs": [
    {
     "name": "stdout",
     "output_type": "stream",
     "text": [
      "Owner's Personal Details\n",
      "\n",
      "Name  Allen\n",
      "Age   45\n",
      "Phone  017869543421\n",
      "Email  allen@gmail.com\n"
     ]
    }
   ],
   "source": [
    "A.owner_details()"
   ]
  },
  {
   "cell_type": "code",
   "execution_count": 86,
   "metadata": {},
   "outputs": [],
   "source": [
    "A= Bank('Allen', 45,'017869543421', 'allen@gmail.com')"
   ]
  },
  {
   "cell_type": "code",
   "execution_count": 87,
   "metadata": {},
   "outputs": [
    {
     "data": {
      "text/plain": [
       "'allen@gmail.com'"
      ]
     },
     "execution_count": 87,
     "metadata": {},
     "output_type": "execute_result"
    }
   ],
   "source": [
    "A.email"
   ]
  },
  {
   "cell_type": "code",
   "execution_count": 88,
   "metadata": {},
   "outputs": [
    {
     "data": {
      "text/plain": [
       "'017869543421'"
      ]
     },
     "execution_count": 88,
     "metadata": {},
     "output_type": "execute_result"
    }
   ],
   "source": [
    "A.phone"
   ]
  },
  {
   "cell_type": "code",
   "execution_count": 89,
   "metadata": {},
   "outputs": [
    {
     "name": "stdout",
     "output_type": "stream",
     "text": [
      "Balance has been upated : $ 500\n"
     ]
    }
   ],
   "source": [
    "A.deposit(500)"
   ]
  },
  {
   "cell_type": "code",
   "execution_count": 90,
   "metadata": {},
   "outputs": [
    {
     "name": "stdout",
     "output_type": "stream",
     "text": [
      "Balance has been upated : $ 1500\n"
     ]
    }
   ],
   "source": [
    "A.deposit(1000)"
   ]
  },
  {
   "cell_type": "code",
   "execution_count": 91,
   "metadata": {},
   "outputs": [
    {
     "name": "stdout",
     "output_type": "stream",
     "text": [
      "Withdrawal Successful | Latest Balance: $ 500\n"
     ]
    }
   ],
   "source": [
    "A.withraw(1000)"
   ]
  },
  {
   "cell_type": "code",
   "execution_count": 92,
   "metadata": {},
   "outputs": [
    {
     "name": "stdout",
     "output_type": "stream",
     "text": [
      "Insufficient Balance | Balance Available: $ 500\n"
     ]
    }
   ],
   "source": [
    "A.withraw(1500)"
   ]
  },
  {
   "cell_type": "code",
   "execution_count": 93,
   "metadata": {},
   "outputs": [
    {
     "data": {
      "text/plain": [
       "<bound method Bank.balance_check of <__main__.Bank object at 0x0000021742FB9960>>"
      ]
     },
     "execution_count": 93,
     "metadata": {},
     "output_type": "execute_result"
    }
   ],
   "source": [
    "A.balance_check"
   ]
  },
  {
   "cell_type": "code",
   "execution_count": 94,
   "metadata": {},
   "outputs": [
    {
     "data": {
      "text/plain": [
       "500"
      ]
     },
     "execution_count": 94,
     "metadata": {},
     "output_type": "execute_result"
    }
   ],
   "source": [
    "A.balance"
   ]
  },
  {
   "cell_type": "code",
   "execution_count": 96,
   "metadata": {},
   "outputs": [
    {
     "name": "stdout",
     "output_type": "stream",
     "text": [
      "Owner's Personal Details\n",
      "\n",
      "Name  Allen\n",
      "Age   45\n",
      "Phone  017869543421\n",
      "Email  allen@gmail.com\n",
      "Account Balance: $ 500\n"
     ]
    }
   ],
   "source": [
    "A.balance_check()"
   ]
  },
  {
   "cell_type": "code",
   "execution_count": 102,
   "metadata": {},
   "outputs": [],
   "source": [
    "# Parent class \n",
    "class user():\n",
    "    \"\"\"\n",
    "    This is bank account user class.\n",
    "    \"\"\"\n",
    "    # constructor \n",
    "    def __init__(self, name: str, age: int, phone: str, email: str,) -> None:\n",
    "        self.name = name\n",
    "        self.age = age\n",
    "        self.phone = phone\n",
    "        self.email = email \n",
    "\n",
    "    def owner_details(self):\n",
    "        print(\"Owner's Personal Details\")\n",
    "        print(\"\")\n",
    "        print(\"Name \",self.name)\n",
    "        print(\"Age  \",self.age)\n",
    "        print(\"Phone \",self.phone)\n",
    "        print(\"Email \",self.email)\n",
    "# Child Class\n",
    "class Bank(user):\n",
    "    def __init__(self, name: str, age: int, phone: str, email: str) -> None:\n",
    "        super().__init__(name, age, phone, email)\n",
    "        self.balance = 0\n",
    "    \n",
    "    def deposit(self,amount):\n",
    "        self.amount = amount\n",
    "        self.balance = self.balance + self.amount\n",
    "        print(\"Balance has been upated : $\", self.balance)\n",
    "\n",
    "    def withraw(self,amount):\n",
    "        self.amount = amount\n",
    "        if self.amount> self.balance:\n",
    "            print(\"Insufficient Balance | Balance Available: $\", self.balance)\n",
    "        else:\n",
    "            self.balance = self.balance - self.amount\n",
    "            print (\"Withdrawal Successful | Latest Balance: $\", self.balance )\n",
    "\n",
    "    def balance_check(self):\n",
    "        self.owner_details()\n",
    "        print(\"Account Balance: $\", self.balance)\n",
    "\n",
    "    def fund_transfer(self,reciever,amount):\n",
    "        self.amount = amount\n",
    "        self.reciever = reciever\n",
    "        if self.amount> self.balance:\n",
    "            print(\"Transfer Failed | Available Balance only : $\", self.balance)\n",
    "        else:\n",
    "            self.balance = (self.balance - self.amount) \n",
    "            self.balance = self.reciever+ self.amount\n",
    "            print (\"Transfer Successful | Latest Balance: $\", self.balance ) \n"
   ]
  },
  {
   "cell_type": "code",
   "execution_count": 103,
   "metadata": {},
   "outputs": [],
   "source": [
    "A= Bank('Allen', 45,'017869543421', 'allen@gmail.com')"
   ]
  },
  {
   "cell_type": "code",
   "execution_count": 104,
   "metadata": {},
   "outputs": [
    {
     "name": "stdout",
     "output_type": "stream",
     "text": [
      "Balance has been upated : $ 500\n"
     ]
    }
   ],
   "source": [
    "A.deposit(500)"
   ]
  },
  {
   "cell_type": "code",
   "execution_count": 105,
   "metadata": {},
   "outputs": [
    {
     "ename": "TypeError",
     "evalue": "'>' not supported between instances of 'str' and 'int'",
     "output_type": "error",
     "traceback": [
      "\u001b[1;31m---------------------------------------------------------------------------\u001b[0m",
      "\u001b[1;31mTypeError\u001b[0m                                 Traceback (most recent call last)",
      "Cell \u001b[1;32mIn [105], line 1\u001b[0m\n\u001b[1;32m----> 1\u001b[0m A\u001b[39m.\u001b[39mfund_transfer(\u001b[39m'\u001b[39m\u001b[39mZesmin\u001b[39m\u001b[39m'\u001b[39m,\u001b[39m'\u001b[39m\u001b[39m200\u001b[39m\u001b[39m'\u001b[39m)\n",
      "Cell \u001b[1;32mIn [102], line 46\u001b[0m, in \u001b[0;36mBank.fund_transfer\u001b[1;34m(self, reciever, amount)\u001b[0m\n\u001b[0;32m     44\u001b[0m \u001b[39mself\u001b[39m\u001b[39m.\u001b[39mamount \u001b[39m=\u001b[39m amount\n\u001b[0;32m     45\u001b[0m \u001b[39mself\u001b[39m\u001b[39m.\u001b[39mreciever \u001b[39m=\u001b[39m reciever\n\u001b[1;32m---> 46\u001b[0m \u001b[39mif\u001b[39;00m \u001b[39mself\u001b[39;49m\u001b[39m.\u001b[39;49mamount\u001b[39m>\u001b[39;49m \u001b[39mself\u001b[39;49m\u001b[39m.\u001b[39;49mbalance:\n\u001b[0;32m     47\u001b[0m     \u001b[39mprint\u001b[39m(\u001b[39m\"\u001b[39m\u001b[39mTransfer Failed | Available Balance only : $\u001b[39m\u001b[39m\"\u001b[39m, \u001b[39mself\u001b[39m\u001b[39m.\u001b[39mbalance)\n\u001b[0;32m     48\u001b[0m \u001b[39melse\u001b[39;00m:\n",
      "\u001b[1;31mTypeError\u001b[0m: '>' not supported between instances of 'str' and 'int'"
     ]
    }
   ],
   "source": [
    "A.fund_transfer('Zesmin','200')"
   ]
  },
  {
   "cell_type": "code",
   "execution_count": null,
   "metadata": {},
   "outputs": [],
   "source": []
  }
 ],
 "metadata": {
  "kernelspec": {
   "display_name": "Python 3.10.7 64-bit",
   "language": "python",
   "name": "python3"
  },
  "language_info": {
   "codemirror_mode": {
    "name": "ipython",
    "version": 3
   },
   "file_extension": ".py",
   "mimetype": "text/x-python",
   "name": "python",
   "nbconvert_exporter": "python",
   "pygments_lexer": "ipython3",
   "version": "3.10.7"
  },
  "orig_nbformat": 4,
  "vscode": {
   "interpreter": {
    "hash": "c19fa61d258bb2b35aae2ada233c33e2817c1ce895aa48acba720c6bf7cbe3cb"
   }
  }
 },
 "nbformat": 4,
 "nbformat_minor": 2
}
